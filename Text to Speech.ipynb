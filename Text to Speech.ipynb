{
 "cells": [
  {
   "cell_type": "code",
   "execution_count": 1,
   "id": "33055ba4",
   "metadata": {},
   "outputs": [
    {
     "name": "stdout",
     "output_type": "stream",
     "text": [
      "Collecting pyttsx3Note: you may need to restart the kernel to use updated packages.\n",
      "\n",
      "  Downloading pyttsx3-2.90-py3-none-any.whl (39 kB)\n",
      "Collecting pypiwin32\n",
      "  Downloading pypiwin32-223-py3-none-any.whl (1.7 kB)\n",
      "Requirement already satisfied: pywin32 in c:\\users\\91870\\anaconda3\\lib\\site-packages (from pyttsx3) (302)\n",
      "Requirement already satisfied: comtypes in c:\\users\\91870\\anaconda3\\lib\\site-packages (from pyttsx3) (1.1.10)\n",
      "Installing collected packages: pypiwin32, pyttsx3\n",
      "Successfully installed pypiwin32-223 pyttsx3-2.90\n"
     ]
    }
   ],
   "source": [
    "pip install pyttsx3"
   ]
  },
  {
   "cell_type": "code",
   "execution_count": 2,
   "id": "79607c36",
   "metadata": {},
   "outputs": [],
   "source": [
    "import tkinter as tk\n",
    "from tkinter import *\n",
    "import pyttsx3"
   ]
  },
  {
   "cell_type": "code",
   "execution_count": 24,
   "id": "f82a4a6f",
   "metadata": {},
   "outputs": [],
   "source": [
    "engine=pyttsx3.init()\n",
    "\n",
    "def speaknow():\n",
    "    engine.say(textv.get())\n",
    "    engine.runAndWait()\n",
    "    engine.stop()\n",
    "\n",
    "root=Tk()\n",
    "\n",
    "textv=StringVar()\n",
    "\n",
    "obj=LabelFrame(root,text=\"Text to Speech\",font=20,bd=1)\n",
    "obj.pack(fill=\"both\",expand=\"yes\",padx=10,pady=10)\n",
    "\n",
    "lbl=Label(obj,text=\"Text\",font=30)\n",
    "lbl.pack(side=tk.LEFT,padx=5)\n",
    "\n",
    "text=Entry(obj,textvariable=textv,font=30,width=25,bd=5)\n",
    "text.pack(side=tk.LEFT,padx=10,pady=10)\n",
    "\n",
    "btn=Button(obj,text=\"Speak\",font=20,bg=\"black\",fg=\"white\",command=speaknow)\n",
    "btn.pack(side=tk.LEFT,padx=10)\n",
    "\n",
    "root.title(\"Text to Speech\")\n",
    "root.geometry(\"600x200\")\n",
    "root.resizable(False,False)\n",
    "root.mainloop()\n"
   ]
  }
 ],
 "metadata": {
  "kernelspec": {
   "display_name": "Python 3 (ipykernel)",
   "language": "python",
   "name": "python3"
  },
  "language_info": {
   "codemirror_mode": {
    "name": "ipython",
    "version": 3
   },
   "file_extension": ".py",
   "mimetype": "text/x-python",
   "name": "python",
   "nbconvert_exporter": "python",
   "pygments_lexer": "ipython3",
   "version": "3.9.12"
  }
 },
 "nbformat": 4,
 "nbformat_minor": 5
}
